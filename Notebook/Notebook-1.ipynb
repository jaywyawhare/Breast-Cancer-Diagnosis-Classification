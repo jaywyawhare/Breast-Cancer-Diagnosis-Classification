{
 "cells": [
  {
   "cell_type": "code",
   "execution_count": null,
   "metadata": {},
   "outputs": [],
   "source": [
    "import pandas as pd\n",
    "import numpy\n",
    "import matplotlib.pyplot as plt\n",
    "import seaborn as sns\n",
    "import sklearn\n",
    "import numpy as np\n",
    "from sklearn.linear_model import LogisticRegression\n",
    "from sklearn.tree import DecisionTreeClassifier\n",
    "from sklearn.ensemble import RandomForestClassifier\n",
    "from sklearn.neighbors import KNeighborsClassifier\n",
    "from sklearn.svm import SVC\n",
    "from sklearn.naive_bayes import GaussianNB\n",
    "from sklearn.preprocessing import LabelEncoder\n",
    "from sklearn.preprocessing import StandardScaler\n",
    "from sklearn.model_selection import train_test_split\n",
    "from sklearn.metrics import accuracy_score, classification_report, confusion_matrix\n",
    "from sklearn.preprocessing import StandardScaler\n",
    "\n",
    "%inline matplotlib"
   ]
  },
  {
   "cell_type": "code",
   "execution_count": null,
   "metadata": {},
   "outputs": [],
   "source": [
    "dataset = \"../data/data.csv\"\n",
    "\n",
    "df = pd.read_csv(dataset)\n",
    "df.head()"
   ]
  },
  {
   "cell_type": "code",
   "execution_count": null,
   "metadata": {},
   "outputs": [],
   "source": [
    "#drop id column\n",
    "\n",
    "df.drop('id', axis=1, inplace=True)\n",
    "df.drop('Unnamed: 32', axis=1, inplace=True)\n",
    "df.head()"
   ]
  },
  {
   "cell_type": "code",
   "execution_count": null,
   "metadata": {},
   "outputs": [],
   "source": [
    "df.isin([0]).sum()\n",
    "\n",
    "df['concavity_mean'].replace(0, df['concavity_mean'].mean(), inplace=True)\n",
    "df['concave points_mean'].replace(0, df['concave points_mean'].mean(), inplace=True)\n",
    "df['concavity_se'].replace(0, df['concavity_se'].mean(), inplace=True)\n",
    "df['concave points_se'].replace(0, df['concave points_se'].mean(), inplace=True)\n",
    "df['concavity_worst'].replace(0, df['concavity_worst'].mean(), inplace=True)\n",
    "df['concave points_worst'].replace(0, df['concave points_worst'].mean(), inplace=True)"
   ]
  },
  {
   "cell_type": "code",
   "execution_count": null,
   "metadata": {},
   "outputs": [],
   "source": [
    "df.head()"
   ]
  },
  {
   "cell_type": "code",
   "execution_count": null,
   "metadata": {},
   "outputs": [],
   "source": [
    "print(df['diagnosis'].value_counts())\n",
    "df['diagnosis'] = df['diagnosis'].map({'B':0, 'M':1})\n",
    "df.head()"
   ]
  },
  {
   "cell_type": "code",
   "execution_count": null,
   "metadata": {},
   "outputs": [],
   "source": [
    "cat_cols = [col for col in df.columns if df[col].dtype == 'object']\n",
    "num_cols = [col for col in df.columns if df[col].dtype != 'object']"
   ]
  },
  {
   "cell_type": "code",
   "execution_count": null,
   "metadata": {},
   "outputs": [],
   "source": [
    "plt.figure(figsize = (20, 40))\n",
    "plotnumber = 1\n",
    "for column in num_cols:\n",
    "    if plotnumber <= 31:\n",
    "        ax = plt.subplot(7, 5, plotnumber)\n",
    "        sns.histplot(df[column],color='red',)\n",
    "        plt.xlabel(column)\n",
    "    plotnumber += 1\n",
    "\n",
    "plt.tight_layout()\n",
    "plt.show()"
   ]
  },
  {
   "cell_type": "code",
   "execution_count": null,
   "metadata": {},
   "outputs": [],
   "source": [
    "train, test = train_test_split(df, test_size=0.4, random_state=28)\n",
    "train, validation = train_test_split(df, test_size=0.1, random_state=28)\n",
    "\n",
    "print(f\"Train set has {train.shape[0]} rows and {train.shape[1]} columns\")\n",
    "print(f\"Test set has {test.shape[0]} rows and {test.shape[1]} columns\")\n",
    "print(f\"Validation set has {validation.shape[0]} rows and {validation.shape[1]} columns\")\n",
    "test.head()"
   ]
  },
  {
   "cell_type": "code",
   "execution_count": null,
   "metadata": {},
   "outputs": [],
   "source": [
    "le = LabelEncoder()\n",
    "\n",
    "for col in cat_cols:\n",
    "    train[col] = le.fit_transform(train[col])\n",
    "    validation[col] = le.transform(validation[col])\n",
    "    test[col] = le.transform(test[col])\n",
    "\n",
    "X_train = train.drop('diagnosis', axis=1)\n",
    "y_train = train['diagnosis']\n",
    "\n",
    "X_test = test.drop('diagnosis', axis=1)\n",
    "y_test = test['diagnosis']\n",
    "\n",
    "X_validation = validation.drop('diagnosis', axis=1)\n",
    "y_validation = validation['diagnosis']\n",
    "\n",
    "scaler = StandardScaler()\n",
    "X_train = scaler.fit_transform(X_train)\n",
    "X_test = scaler.transform(X_test)\n",
    "X_validation = scaler.transform(X_validation)"
   ]
  },
  {
   "cell_type": "code",
   "execution_count": null,
   "metadata": {},
   "outputs": [],
   "source": [
    "def run_model(model, X_train, y_train, X_test, y_test, X_validation, y_validation):\n",
    "    model.fit(X_train, y_train)\n",
    "    y_pred = model.predict(X_test)\n",
    "    print(f\"Model = {model}\")\n",
    "    print(f\"Accuracy score: {accuracy_score(y_test, y_pred)}\")\n",
    "    print(f\"Precision score: {sklearn.metrics.precision_score(y_test, y_pred)}\")\n",
    "    print(f\"Recall score: {sklearn.metrics.recall_score(y_test, y_pred)}\")\n",
    "    print(f\"F1 score: {sklearn.metrics.f1_score(y_test, y_pred)}\")\n",
    "    print(f\"Validation score: {model.score(X_validation, y_validation)}\")\n",
    "    cm = confusion_matrix(y_test, y_pred)\n",
    "    plt.figure(figsize=(10, 7))\n",
    "    sns.heatmap(cm, annot=True, cmap='magma')\n",
    "    plt.xlabel('Predicted')\n",
    "    plt.ylabel('Truth')\n",
    "    plt.show()\n",
    "    print()"
   ]
  },
  {
   "cell_type": "code",
   "execution_count": null,
   "metadata": {},
   "outputs": [],
   "source": [
    "from sklearn.utils import all_estimators\n",
    "\n",
    "all_estimators\n",
    "\n",
    "models = []\n",
    "\n",
    "for name, model in all_estimators(type_filter='classifier'):\n",
    "    models.append(model)\n",
    "\n",
    "models"
   ]
  },
  {
   "cell_type": "code",
   "execution_count": null,
   "metadata": {},
   "outputs": [],
   "source": [
    "for model in models:\n",
    "    try:\n",
    "        run_model(model(), X_train, y_train, X_test, y_test, X_validation, y_validation)\n",
    "    except:\n",
    "        pass"
   ]
  },
  {
   "cell_type": "code",
   "execution_count": null,
   "metadata": {},
   "outputs": [],
   "source": [
    "from tensorflow.keras.models import Sequential\n",
    "from tensorflow.keras.layers import Dense, Dropout\n",
    "from tensorflow.keras.optimizers import Adam\n",
    "\n",
    "model = Sequential()\n",
    "model.add(Dense(30, activation='relu'))\n",
    "model.add(Dropout(0.5))\n",
    "model.add(Dense(15, activation='relu'))\n",
    "model.add(Dropout(0.5))\n",
    "model.add(Dense(1, activation='sigmoid'))\n",
    "\n",
    "model.compile(loss='binary_crossentropy', optimizer=Adam(learning_rate=0.0001), metrics=['accuracy'])\n",
    "\n",
    "model.fit(x=X_train, y=y_train, epochs=600, validation_data=(X_validation, y_validation), verbose=1)\n",
    "\n",
    "losses = pd.DataFrame(model.history.history)\n",
    "losses.plot()\n",
    "plt.show()"
   ]
  }
 ],
 "metadata": {
  "kernelspec": {
   "display_name": "Python 3 (ipykernel)",
   "language": "python",
   "name": "python3"
  },
  "language_info": {
   "codemirror_mode": {
    "name": "ipython",
    "version": 3
   },
   "file_extension": ".py",
   "mimetype": "text/x-python",
   "name": "python",
   "nbconvert_exporter": "python",
   "pygments_lexer": "ipython3",
   "version": "3.9.16"
  },
  "orig_nbformat": 4,
  "vscode": {
   "interpreter": {
    "hash": "a637dfb78fe54778dbc89b6f201b2e1c4a23120d68266c8d4e28efaeab34df6e"
   }
  }
 },
 "nbformat": 4,
 "nbformat_minor": 2
}
